{
 "cells": [
  {
   "attachments": {},
   "cell_type": "markdown",
   "metadata": {},
   "source": [
    "# Satcen Dataset Handling\n",
    "\n",
    "Perform any processing that may be required on the Satcen dataset.\n",
    "\n",
    "## Add New Files\n",
    "\n",
    "Handle the addition of newly-received images without skiffs.\n",
    "\n",
    "### Rename the Files"
   ]
  },
  {
   "cell_type": "code",
   "execution_count": 1,
   "metadata": {},
   "outputs": [],
   "source": [
    "import os\n",
    "import pathlib\n",
    "\n",
    "# path to satcen_dataset (contains \"full\" and \"original\" subfolders)\n",
    "satcen_path = pathlib.Path('../satcen_dataset/').resolve()\n",
    "\n",
    "# rename new files\n",
    "for f in os.listdir(satcen_path/'full/pictures'):\n",
    "\n",
    "    # check if file has original name\n",
    "    if 'tudor' in f:\n",
    "        os.rename(satcen_path/'full/pictures'/f, satcen_path/'full/pictures'/f[6:])"
   ]
  },
  {
   "attachments": {},
   "cell_type": "markdown",
   "metadata": {},
   "source": [
    "### Construct the Labels"
   ]
  },
  {
   "cell_type": "code",
   "execution_count": 2,
   "metadata": {},
   "outputs": [
    {
     "name": "stdout",
     "output_type": "stream",
     "text": [
      "Total number of labels: 9420\n",
      "Positive observations: 1525\n",
      "Negative observations: 7895\n"
     ]
    }
   ],
   "source": [
    "import json\n",
    "\n",
    "# load the annotations of the original images\n",
    "file = open(satcen_path/'original/SatCen_skiffs256.json')\n",
    "labels = json.load(file)['batch']['annotations']\n",
    "\n",
    "# reformat original annotations\n",
    "labels = list(map(lambda x: {\n",
    "    'name': x['name'],\n",
    "    'bounding_boxes': [box['data'] for box in x['objects']]\n",
    "}, labels))\n",
    "\n",
    "# new images do not contain any ships, add bounding_boxes: []\n",
    "# for the corresponding entry in the labels list\n",
    "# new images contain \"chip\" in the beginning of the filename\n",
    "pictures = os.listdir(satcen_path/'full/pictures')\n",
    "for f in pictures:\n",
    "\n",
    "    # new image\n",
    "    if 'chip' in f:\n",
    "        labels.append({\n",
    "            'name': f,\n",
    "            'bounding_boxes': []\n",
    "        })\n",
    "\n",
    "# calculate number of positive and negative observations\n",
    "no_pos_obs = len(list(filter(lambda x: len(x['bounding_boxes']) > 0, labels)))\n",
    "no_neg_obs = len(list(filter(lambda x: len(x['bounding_boxes']) == 0, labels)))\n",
    "\n",
    "# print stats\n",
    "print(f'Total number of labels: {len(labels)}')\n",
    "print(f'Positive observations: {no_pos_obs}')\n",
    "print(f'Negative observations: {no_neg_obs}')\n",
    "\n",
    "# save json\n",
    "labels_path = satcen_path/'full/labels.json'\n",
    "\n",
    "# delete if already exists\n",
    "if 'labels.json' in os.listdir():\n",
    "    os.remove(labels_path)\n",
    "\n",
    "# write to file\n",
    "with open(labels_path, 'w') as f:\n",
    "    json.dump(labels, f)"
   ]
  },
  {
   "cell_type": "code",
   "execution_count": 3,
   "metadata": {},
   "outputs": [
    {
     "name": "stdout",
     "output_type": "stream",
     "text": [
      "{'name': '272-512-0.png', 'bounding_boxes': [[{'x': 33, 'y': 154}, {'x': 32, 'y': 175}, {'x': 42, 'y': 176}, {'x': 45, 'y': 154}], [{'x': 18, 'y': 124}, {'x': 17, 'y': 147}, {'x': 29, 'y': 149}, {'x': 31, 'y': 129}], [{'x': 67, 'y': 129}, {'x': 54, 'y': 147}, {'x': 61, 'y': 151}, {'x': 74, 'y': 138}], [{'x': 64, 'y': 125}, {'x': 48, 'y': 138}, {'x': 55, 'y': 145}, {'x': 70, 'y': 134}], [{'x': 50, 'y': 112}, {'x': 40, 'y': 131}, {'x': 51, 'y': 138}, {'x': 60, 'y': 119}], [{'x': 43, 'y': 104}, {'x': 32, 'y': 122}, {'x': 42, 'y': 126}, {'x': 52, 'y': 108}], [{'x': 36, 'y': 100}, {'x': 24, 'y': 117}, {'x': 32, 'y': 123}, {'x': 45, 'y': 106}], [{'x': 51, 'y': 196}, {'x': 30, 'y': 196}, {'x': 31, 'y': 208}, {'x': 51, 'y': 208}], [{'x': 31, 'y': 203}, {'x': 9, 'y': 202}, {'x': 9, 'y': 215}, {'x': 32, 'y': 215}], [{'x': 50, 'y': 208}, {'x': 31, 'y': 205}, {'x': 29, 'y': 216}, {'x': 51, 'y': 219}], [{'x': 34, 'y': 217}, {'x': 57, 'y': 220}, {'x': 54, 'y': 233}, {'x': 33, 'y': 229}], [{'x': 31, 'y': 243}, {'x': 49, 'y': 255}, {'x': 57, 'y': 246}, {'x': 38, 'y': 234}], [{'x': 31, 'y': 256}, {'x': 23, 'y': 250}, {'x': 27, 'y': 242}, {'x': 48, 'y': 254}], [{'x': 0, 'y': 224}, {'x': 6, 'y': 245}, {'x': 17, 'y': 242}, {'x': 10, 'y': 222}], [{'x': 1, 'y': 226}, {'x': 6, 'y': 245}, {'x': 0, 'y': 247}, {'x': 0, 'y': 243}]]}\n"
     ]
    }
   ],
   "source": [
    "print(labels[0])"
   ]
  },
  {
   "attachments": {},
   "cell_type": "markdown",
   "metadata": {},
   "source": [
    "### Remove Images that Are Not Annotated"
   ]
  },
  {
   "cell_type": "code",
   "execution_count": 7,
   "metadata": {},
   "outputs": [
    {
     "name": "stdout",
     "output_type": "stream",
     "text": [
      "Number of annotations: 9420\n",
      "Total number of images (pictures folder): 9420\n"
     ]
    }
   ],
   "source": [
    "# extract file names from the labels\n",
    "annotated_images = list(map(lambda x: x['name'], labels))\n",
    "print(f'Number of annotations: {len(annotated_images)}')\n",
    "\n",
    "# loop through the images in the satcen_dataset/full/pictures folder\n",
    "all_images = os.listdir(satcen_path/'full/pictures')\n",
    "for img in all_images:\n",
    "\n",
    "    # check if image is annotated\n",
    "    if img not in annotated_images:\n",
    "\n",
    "        # remove image\n",
    "        os.remove(satcen_path/f'full/pictures/{img}')\n",
    "\n",
    "print(f'Total number of images (pictures folder): {len(os.listdir(satcen_path/\"full/pictures\"))}')"
   ]
  }
 ],
 "metadata": {
  "kernelspec": {
   "display_name": "env",
   "language": "python",
   "name": "python3"
  },
  "language_info": {
   "codemirror_mode": {
    "name": "ipython",
    "version": 3
   },
   "file_extension": ".py",
   "mimetype": "text/x-python",
   "name": "python",
   "nbconvert_exporter": "python",
   "pygments_lexer": "ipython3",
   "version": "3.8.10"
  },
  "orig_nbformat": 4,
  "vscode": {
   "interpreter": {
    "hash": "40f35d48ccabdbc3c8ccc3bd8f52698735896fba1ee0a9092f8afa0cc0b0bb74"
   }
  }
 },
 "nbformat": 4,
 "nbformat_minor": 2
}
