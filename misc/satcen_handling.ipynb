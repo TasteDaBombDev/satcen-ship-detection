{
 "cells": [
  {
   "attachments": {},
   "cell_type": "markdown",
   "metadata": {},
   "source": [
    "# Satcen Dataset Handling\n",
    "\n",
    "Perform any processing that may be required on the Satcen dataset.\n",
    "\n",
    "## Add New Files\n",
    "\n",
    "Handle the addition of newly-received images without skiffs.\n",
    "\n",
    "### Rename the Files"
   ]
  },
  {
   "cell_type": "code",
   "execution_count": 15,
   "metadata": {},
   "outputs": [],
   "source": [
    "import os\n",
    "import pathlib\n",
    "\n",
    "# path to satcen_dataset (contains \"full\" and \"original\" subfolders)\n",
    "satcen_path = pathlib.Path('../satcen_dataset/').resolve()\n",
    "\n",
    "# rename new files\n",
    "for f in os.listdir(satcen_path/'full/pictures'):\n",
    "\n",
    "    # check if file has original name\n",
    "    if 'tudor' in f:\n",
    "        os.rename(satcen_path/'full/pictures'/f, satcen_path/'full/pictures'/f[6:])"
   ]
  },
  {
   "attachments": {},
   "cell_type": "markdown",
   "metadata": {},
   "source": [
    "### Construct the Labels"
   ]
  },
  {
   "cell_type": "code",
   "execution_count": 51,
   "metadata": {},
   "outputs": [
    {
     "name": "stdout",
     "output_type": "stream",
     "text": [
      "Total number of labels: 9420\n",
      "Positive observations: 1525\n",
      "Negative observations: 7895\n"
     ]
    }
   ],
   "source": [
    "import json\n",
    "\n",
    "# load the annotations of the original images\n",
    "file = open(satcen_path/'original/SatCen_skiffs256.json')\n",
    "labels = json.load(file)['batch']['annotations']\n",
    "\n",
    "# reformat original annotations\n",
    "labels = list(map(lambda x: {\n",
    "    'name': x['name'],\n",
    "    'bounding_boxes': [box['data'] for box in x['objects']]\n",
    "}, labels))\n",
    "\n",
    "# new images do not contain any ships, add bounding_boxes: []\n",
    "# for the corresponding entry in the labels list\n",
    "# new images contain \"chip\" in the beginning of the filename\n",
    "pictures = os.listdir(satcen_path/'full/pictures')\n",
    "for f in pictures:\n",
    "\n",
    "    # new image\n",
    "    if 'chip' in f:\n",
    "        labels.append({\n",
    "            'name': f,\n",
    "            'bounding_boxes': []\n",
    "        })\n",
    "\n",
    "# calculate number of positive and negative observations\n",
    "no_pos_obs = len(list(filter(lambda x: len(x['bounding_boxes']) > 0, labels)))\n",
    "no_neg_obs = len(list(filter(lambda x: len(x['bounding_boxes']) == 0, labels)))\n",
    "\n",
    "# print stats\n",
    "print(f'Total number of labels: {len(labels)}')\n",
    "print(f'Positive observations: {no_pos_obs}')\n",
    "print(f'Negative observations: {no_neg_obs}')\n",
    "\n",
    "# save json\n",
    "labels_path = satcen_path/'full/labels.json'\n",
    "\n",
    "# delete if already exists\n",
    "if 'labels.json' in os.listdir():\n",
    "    os.remove(labels_path)\n",
    "\n",
    "# write to file\n",
    "with open(labels_path, 'w') as f:\n",
    "    json.dump(labels, f)"
   ]
  }
 ],
 "metadata": {
  "kernelspec": {
   "display_name": "env",
   "language": "python",
   "name": "python3"
  },
  "language_info": {
   "codemirror_mode": {
    "name": "ipython",
    "version": 3
   },
   "file_extension": ".py",
   "mimetype": "text/x-python",
   "name": "python",
   "nbconvert_exporter": "python",
   "pygments_lexer": "ipython3",
   "version": "3.8.10"
  },
  "orig_nbformat": 4,
  "vscode": {
   "interpreter": {
    "hash": "40f35d48ccabdbc3c8ccc3bd8f52698735896fba1ee0a9092f8afa0cc0b0bb74"
   }
  }
 },
 "nbformat": 4,
 "nbformat_minor": 2
}
